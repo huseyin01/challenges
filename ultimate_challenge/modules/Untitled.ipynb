{
 "cells": [
  {
   "cell_type": "code",
   "execution_count": 1,
   "metadata": {},
   "outputs": [
    {
     "name": "stdout",
     "output_type": "stream",
     "text": [
      "Writing topla.py\n"
     ]
    }
   ],
   "source": [
    "%%writefile topla.py\n",
    "def topla(x,y):\n",
    "    return x+y"
   ]
  },
  {
   "cell_type": "code",
   "execution_count": 11,
   "metadata": {},
   "outputs": [
    {
     "name": "stdout",
     "output_type": "stream",
     "text": [
      "Overwriting deneme.py\n"
     ]
    }
   ],
   "source": [
    "%%writefile deneme.py\n",
    "def deneme1(x):\n",
    "    print(x*'merhaba')\n",
    "\n",
    "def deneme2(y):\n",
    "    print(y)"
   ]
  },
  {
   "cell_type": "code",
   "execution_count": 12,
   "metadata": {},
   "outputs": [
    {
     "name": "stdout",
     "output_type": "stream",
     "text": [
      "Writing denemek.py\n"
     ]
    }
   ],
   "source": [
    "%%writefile denemek.py\n",
    "def deneme1(x):\n",
    "    print(x*'merhaba')\n",
    "\n",
    "def deneme2(y):\n",
    "    print(y)"
   ]
  },
  {
   "cell_type": "code",
   "execution_count": 13,
   "metadata": {},
   "outputs": [
    {
     "name": "stdout",
     "output_type": "stream",
     "text": [
      "Writing day_graphs.py\n"
     ]
    }
   ],
   "source": [
    "%%writefile day_graphs.py\n",
    "def weekdays_graph(resample_daily_list):\n",
    "    #The days to loop over\n",
    "    from collections import defaultdict\n",
    "    from datetime import timedelta\n",
    "    import pandas as pd\n",
    "    from datetime import datetime\n",
    "    import matplotlib.pyplot as plt\n",
    "    \n",
    "    day_list = ['Thursday', 'Friday', 'Saturday', 'Sunday', 'Monday', 'Tuesday', 'Wednesday']\n",
    "    #Create a dict for holding the running counts \n",
    "    \n",
    "    avg_index = defaultdict(int)\n",
    "    for i, t in enumerate(pd.timedelta_range(0, periods=24*4, freq='15T')):\n",
    "        avg_index[i] = datetime.strptime(str(t).replace('0 days ',''), '%H:%M:%S').time()\n",
    "    \n",
    "    #Loop over the 7 days\n",
    "    for i in range(len(day_list)):\n",
    "        \n",
    "        #Create the dataframe to hold the running counts\n",
    "        avg_df = pd.DataFrame(avg_index.items(), columns=['login', 'login_time'])\n",
    "        avg_df.login = 0\n",
    "        avg_df.set_index('login_time', inplace=True)\n",
    "        \n",
    "        #Run through grouped day list\n",
    "        day_range = range(i, len(resample_daily_list), len(day_list))\n",
    "            \n",
    "        for j in day_range:\n",
    "                \n",
    "            #Extract the dataframe\n",
    "            df1 = resample_daily_list[j]\n",
    "            df1 = df1.set_index(df1.index.to_series().dt.time)\n",
    "                \n",
    "            #Add the values of this dataframe to running count\n",
    "            avg_df = avg_df.add(df1, fill_value=0) \n",
    "                \n",
    "            #Plot the time series\n",
    "            plt.rcParams['figure.figsize']=[15,5]\n",
    "            if j < len(day_list):\n",
    "                ax = df1.plot(legend=False, color='lightpink')\n",
    "            else:\n",
    "                df1.plot(ax=ax, legend=False, color='lightpink')\n",
    "        \n",
    "        #Create the average and plot    \n",
    "        avg_df['Average'] = avg_df['count']/float(len(day_range))\n",
    "        avg_df.drop(['login','count'], axis=1, inplace=True)\n",
    "        avg_df.plot(ax=ax, legend=True, color='darkred', lw=4.)\n",
    "        \n",
    "        #Plot the full graph\n",
    "        ax.set_title('All ' + day_list[i] + 's')\n",
    "        ax.set_xlabel('Login Time')\n",
    "        ax.set_ylabel('Counts')\n",
    "    return plt.show()\n",
    "\n",
    "def alldays_graph(resample_daily_list):\n",
    "    #The days to loop over\n",
    "    from collections import defaultdict\n",
    "    from datetime import timedelta\n",
    "    import pandas as pd\n",
    "    from datetime import datetime\n",
    "    import matplotlib.pyplot as plt\n",
    "    \n",
    "    \n",
    "    #Create a dict for holding the running counts \n",
    "    avg_index = defaultdict(int)\n",
    "    for i, t in enumerate(pd.timedelta_range(0, periods=24*4, freq='15T')):\n",
    "        avg_index[i] = datetime.strptime(str(t).replace('0 days ',''), '%H:%M:%S').time()\n",
    "    \n",
    "    #Loop over the 7 days\n",
    "    for i in range(1):\n",
    "        \n",
    "        #Create the dataframe to hold the running counts\n",
    "        avg_df = pd.DataFrame(avg_index.items(), columns=['login', 'login_time'])\n",
    "        avg_df.login = 0\n",
    "        avg_df.set_index('login_time', inplace=True)\n",
    "        #Run through grouped day list\n",
    "        day_range = range(i, len(resample_daily_list))\n",
    "            \n",
    "        for j in day_range:\n",
    "                \n",
    "            #Extract the dataframe\n",
    "            df1 = resample_daily_list[j]\n",
    "            df1 = df1.set_index(df1.index.to_series().dt.time)\n",
    "                \n",
    "            #Add the values of this dataframe to running count\n",
    "            avg_df = avg_df.add(df1, fill_value=0) \n",
    "                \n",
    "            #Plot the time series\n",
    "            plt.rcParams['figure.figsize']=[15,5]\n",
    "            if j < 1:\n",
    "                ax = df1.plot(legend=False, color='lightpink')\n",
    "            else:\n",
    "                df1.plot(ax=ax, legend=False, color='lightpink')\n",
    "        \n",
    "        #Create the average and plot    \n",
    "        avg_df['Average'] = avg_df['count']/float(len(day_range))\n",
    "        avg_df.drop(['login','count'], axis=1, inplace=True)\n",
    "        avg_df.plot(ax=ax, legend=True, color='darkred', lw=4.)\n",
    "        \n",
    "        #Plot the full graph\n",
    "        ax.set_title('All Days')\n",
    "        ax.set_xlabel('Login Time')\n",
    "        ax.set_ylabel('Counts')\n",
    "    return plt.show()"
   ]
  },
  {
   "cell_type": "code",
   "execution_count": null,
   "metadata": {},
   "outputs": [],
   "source": []
  }
 ],
 "metadata": {
  "kernelspec": {
   "display_name": "Python 3",
   "language": "python",
   "name": "python3"
  },
  "language_info": {
   "codemirror_mode": {
    "name": "ipython",
    "version": 3
   },
   "file_extension": ".py",
   "mimetype": "text/x-python",
   "name": "python",
   "nbconvert_exporter": "python",
   "pygments_lexer": "ipython3",
   "version": "3.6.5"
  }
 },
 "nbformat": 4,
 "nbformat_minor": 2
}
